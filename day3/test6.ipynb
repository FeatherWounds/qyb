{
 "cells": [
  {
   "cell_type": "code",
   "execution_count": 1,
   "id": "f02736e0-ab2e-4c49-91ca-ee26f5c78ea8",
   "metadata": {},
   "outputs": [
    {
     "name": "stdout",
     "output_type": "stream",
     "text": [
      "已创建students.csv文件\n",
      "\n"
     ]
    }
   ],
   "source": [
    "import pandas as pd\n",
    "import numpy as np\n",
    "\n",
    "# 1. 创建包含指定数据的CSV文件\n",
    "# 创建示例数据，其中包含一个空值\n",
    "data = {\n",
    "    'Student_ID': [101, 102, 103, 104, 105],\n",
    "    'Name': ['Alice', 'Bob', None, 'David', 'Eva'],\n",
    "    'Score': [85, 92, 78, np.nan, 88],\n",
    "    'Grade': ['A', 'A', 'B', 'C', 'B']\n",
    "}\n",
    "\n",
    "# 创建DataFrame\n",
    "df = pd.DataFrame(data)\n",
    "\n",
    "# 保存为CSV文件，不包含索引列\n",
    "df.to_csv('students.csv', index=False)\n",
    "print(\"已创建students.csv文件\\n\")"
   ]
  },
  {
   "cell_type": "code",
   "execution_count": 2,
   "id": "a94b4540-b5b0-41fc-8421-d738581122ee",
   "metadata": {},
   "outputs": [
    {
     "name": "stdout",
     "output_type": "stream",
     "text": [
      "前3行数据:\n",
      "   Student_ID   Name  Score Grade\n",
      "0         101  Alice   85.0     A\n",
      "1         102    Bob   92.0     A\n",
      "2         103    NaN   78.0     B\n",
      "\n"
     ]
    }
   ],
   "source": [
    "# 2. 读取CSV文件并打印前3行\n",
    "students_df = pd.read_csv('students.csv')\n",
    "print(\"前3行数据:\")\n",
    "print(students_df.head(3))\n",
    "print()"
   ]
  },
  {
   "cell_type": "code",
   "execution_count": 3,
   "id": "b8cea15a-6b98-41bb-b6da-a6c2cb927646",
   "metadata": {},
   "outputs": [
    {
     "name": "stdout",
     "output_type": "stream",
     "text": [
      "处理缺失值后的数据:\n",
      "   Student_ID     Name  Score Grade\n",
      "0         101    Alice  85.00     A\n",
      "1         102      Bob  92.00     A\n",
      "2         103  Unknown  78.00     B\n",
      "3         104    David  85.75     C\n",
      "4         105      Eva  88.00     B\n",
      "\n"
     ]
    }
   ],
   "source": [
    "# 计算Score列的平均分\n",
    "score_mean = students_df['Score'].mean()\n",
    "\n",
    "# 填充缺失值\n",
    "students_df = students_df.assign(\n",
    "    Score=students_df['Score'].fillna(score_mean),\n",
    "    Name=students_df['Name'].fillna('Unknown')\n",
    ")\n",
    "\n",
    "print(\"处理缺失值后的数据:\")\n",
    "print(students_df)\n",
    "print()"
   ]
  },
  {
   "cell_type": "code",
   "execution_count": 4,
   "id": "bef0a419-17e1-411f-b14d-3d96e244b17d",
   "metadata": {},
   "outputs": [
    {
     "name": "stdout",
     "output_type": "stream",
     "text": [
      "已保存处理后的数据为students_cleaned.csv\n"
     ]
    }
   ],
   "source": [
    "# 4. 保存处理后的DataFrame为新CSV文件\n",
    "students_df.to_csv('students_cleaned.csv', index=False)\n",
    "print(\"已保存处理后的数据为students_cleaned.csv\")"
   ]
  },
  {
   "cell_type": "code",
   "execution_count": null,
   "id": "04c6bf0d-9a83-4325-a41e-15f03977ce0f",
   "metadata": {},
   "outputs": [],
   "source": []
  }
 ],
 "metadata": {
  "kernelspec": {
   "display_name": "Python 3 (ipykernel)",
   "language": "python",
   "name": "python3"
  },
  "language_info": {
   "codemirror_mode": {
    "name": "ipython",
    "version": 3
   },
   "file_extension": ".py",
   "mimetype": "text/x-python",
   "name": "python",
   "nbconvert_exporter": "python",
   "pygments_lexer": "ipython3",
   "version": "3.12.6"
  }
 },
 "nbformat": 4,
 "nbformat_minor": 5
}
