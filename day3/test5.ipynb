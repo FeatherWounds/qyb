{
 "cells": [
  {
   "cell_type": "code",
   "execution_count": 1,
   "id": "9e60df57-b5d7-4f91-8ca5-9f763af2d4b8",
   "metadata": {},
   "outputs": [],
   "source": [
    "import pandas as pd\n",
    "\n",
    "# 1. 读取并合并数据，纵向连接\n",
    "df_2015 = pd.read_csv(r'C:\\Users\\FeatherWounds\\Downloads\\2015年国内主要城市年度数据.csv')\n",
    "df_2016 = pd.read_csv(r'C:\\Users\\FeatherWounds\\Downloads\\2016年国内主要城市年度数据.csv')\n",
    "df_2017 = pd.read_csv(r'C:\\Users\\FeatherWounds\\Downloads\\2017年国内主要城市年度数据.csv')\n",
    "\n",
    "# 合并三个数据框\n",
    "merged_df = pd.concat([df_2015, df_2016, df_2017], axis=0)"
   ]
  },
  {
   "cell_type": "code",
   "execution_count": 2,
   "id": "c6850b05-75be-4472-b26b-19b343165222",
   "metadata": {},
   "outputs": [],
   "source": [
    "# 2. 按照年份来聚合\n",
    "grouped_by_year = merged_df.groupby('年份')"
   ]
  },
  {
   "cell_type": "code",
   "execution_count": 3,
   "id": "f1489294-47fd-46db-970c-11f0a47bb1a6",
   "metadata": {},
   "outputs": [
    {
     "name": "stdout",
     "output_type": "stream",
     "text": [
      "每年的国内生产总值:\n",
      "年份\n",
      "2015    277958.37\n",
      "2016    300696.10\n",
      "2017    332562.43\n",
      "Name: 国内生产总值, dtype: float64\n"
     ]
    }
   ],
   "source": [
    "# 3. 求每年的国内生产总值\n",
    "gdp_by_year = grouped_by_year['国内生产总值'].sum()\n",
    "print(\"每年的国内生产总值:\")\n",
    "print(gdp_by_year)"
   ]
  },
  {
   "cell_type": "code",
   "execution_count": 4,
   "id": "35b9779d-bd76-4a40-95e5-552c0f9b1b57",
   "metadata": {},
   "outputs": [
    {
     "name": "stdout",
     "output_type": "stream",
     "text": [
      "\n",
      "处理缺省值后的数据框前几行:\n",
      "     地区    年份    国内生产总值  第一产业增加值  第二产业增加值   第三产业增加值  社会商品零售总额    货物进出口总额  \\\n",
      "0    北京  2015  23014.59   140.21  4542.64  18331.74   10338.0  319416.16   \n",
      "1    天津  2015  16538.19   208.82  7704.22   8625.15    5257.3  114282.80   \n",
      "2   石家庄  2015   5440.60   494.44  2452.40   2493.77    2693.0   12160.29   \n",
      "3    太原  2015   2735.34    37.40  1020.18   1677.77    1540.8   10677.38   \n",
      "4  呼和浩特  2015   3090.52   126.23   867.08   2097.21    1353.5    2072.75   \n",
      "\n",
      "     年末总人口  在岗职工平均工资  普通高等学校在校学生数  医院、卫生院数  房地产开发投资额  \n",
      "0  1345.20    113073        60.36      701   4177.05  \n",
      "1  1026.90     81486        51.29      661   1871.55  \n",
      "2  1028.84     54441        41.98      393    965.13  \n",
      "3   367.39     60516        42.14      247    597.83  \n",
      "4   238.58     53698        23.52      174    509.05  \n"
     ]
    }
   ],
   "source": [
    "# 4. 处理缺省值，填充为0\n",
    "filled_df = merged_df.fillna(0)\n",
    "print(\"\\n处理缺省值后的数据框前几行:\")\n",
    "print(filled_df.head())"
   ]
  },
  {
   "cell_type": "code",
   "execution_count": 5,
   "id": "26e63dc6-4044-4899-9057-7cc44460ba7c",
   "metadata": {},
   "outputs": [],
   "source": [
    "filled_df.to_csv('合并后的城市数据.csv', index=False)"
   ]
  }
 ],
 "metadata": {
  "kernelspec": {
   "display_name": "Python 3 (ipykernel)",
   "language": "python",
   "name": "python3"
  },
  "language_info": {
   "codemirror_mode": {
    "name": "ipython",
    "version": 3
   },
   "file_extension": ".py",
   "mimetype": "text/x-python",
   "name": "python",
   "nbconvert_exporter": "python",
   "pygments_lexer": "ipython3",
   "version": "3.12.6"
  }
 },
 "nbformat": 4,
 "nbformat_minor": 5
}
