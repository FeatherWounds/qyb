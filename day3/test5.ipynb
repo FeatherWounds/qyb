{
 "cells": [
  {
   "cell_type": "code",
   "execution_count": 1,
   "id": "9e60df57-b5d7-4f91-8ca5-9f763af2d4b8",
   "metadata": {},
   "outputs": [],
   "source": [
    "import pandas as pd\n",
    "\n",
    "# 1. 读取并合并数据，纵向连接\n",
    "df_2015 = pd.read_csv(r'C:\\Users\\FeatherWounds\\Downloads\\2015年国内主要城市年度数据.csv')\n",
    "df_2016 = pd.read_csv(r'C:\\Users\\FeatherWounds\\Downloads\\2016年国内主要城市年度数据.csv')\n",
    "df_2017 = pd.read_csv(r'C:\\Users\\FeatherWounds\\Downloads\\2017年国内主要城市年度数据.csv')\n",
    "\n",
    "# 合并三个数据框\n",
    "merged_df = pd.concat([df_2015, df_2016, df_2017], axis=0)"
   ]
  },
  {
   "cell_type": "code",
   "execution_count": 2,
   "id": "c6850b05-75be-4472-b26b-19b343165222",
   "metadata": {},
   "outputs": [],
   "source": [
    "# 2. 按照年份来聚合\n",
    "grouped_by_year = merged_df.groupby('年份')"
   ]
  },
  {
   "cell_type": "code",
   "execution_count": 3,
   "id": "f1489294-47fd-46db-970c-11f0a47bb1a6",
   "metadata": {},
   "outputs": [
    {
     "name": "stdout",
     "output_type": "stream",
     "text": [
      "每年的国内生产总值:\n",
      "年份\n",
      "2015    277958.37\n",
      "2016    300696.10\n",
      "2017    332562.43\n",
      "Name: 国内生产总值, dtype: float64\n"
     ]
    }
   ],
   "source": [
    "# 3. 求每年的国内生产总值\n",
    "gdp_by_year = grouped_by_year['国内生产总值'].sum()\n",
    "print(\"每年的国内生产总值:\")\n",
    "print(gdp_by_year)"
   ]
  },
  {
   "cell_type": "code",
   "execution_count": 4,
   "id": "35b9779d-bd76-4a40-95e5-552c0f9b1b57",
   "metadata": {},
   "outputs": [
    {
     "name": "stdout",
     "output_type": "stream",
     "text": [
      "\n",
      "处理缺省值后的数据框前几行:\n",
      "     地区    年份    国内生产总值  第一产业增加值  第二产业增加值   第三产业增加值  社会商品零售总额    货物进出口总额  \\\n",
      "0    北京  2015  23014.59   140.21  4542.64  18331.74   10338.0  319416.16   \n",
      "1    天津  2015  16538.19   208.82  7704.22   8625.15    5257.3  114282.80   \n",
      "2   石家庄  2015   5440.60   494.44  2452.40   2493.77    2693.0   12160.29   \n",
      "3    太原  2015   2735.34    37.40  1020.18   1677.77    1540.8   10677.38   \n",
      "4  呼和浩特  2015   3090.52   126.23   867.08   2097.21    1353.5    2072.75   \n",
      "\n",
      "     年末总人口  在岗职工平均工资  普通高等学校在校学生数  医院、卫生院数  房地产开发投资额  \n",
      "0  1345.20    113073        60.36      701   4177.05  \n",
      "1  1026.90     81486        51.29      661   1871.55  \n",
      "2  1028.84     54441        41.98      393    965.13  \n",
      "3   367.39     60516        42.14      247    597.83  \n",
      "4   238.58     53698        23.52      174    509.05  \n"
     ]
    }
   ],
   "source": [
    "# 4. 处理缺省值，填充为0\n",
    "filled_df = merged_df.fillna(0)\n",
    "print(\"\\n处理缺省值后的数据框前几行:\")\n",
    "print(filled_df.head())"
   ]
  },
  {
   "cell_type": "code",
   "execution_count": 6,
   "id": "26e63dc6-4044-4899-9057-7cc44460ba7c",
   "metadata": {},
   "outputs": [
    {
     "name": "stdout",
     "output_type": "stream",
     "text": [
      "5. GDP年均增长率最高和最低的五个城市:\n",
      "\n",
      "增长率最高的五个城市:\n",
      "地区\n",
      "西安    13.474172\n",
      "成都    13.398259\n",
      "深圳    13.355030\n",
      "合肥    12.889341\n",
      "拉萨    12.788795\n",
      "Name: 国内生产总值, dtype: float64\n",
      "\n",
      "增长率最低的五个城市:\n",
      "地区\n",
      "哈尔滨      5.118674\n",
      "乌鲁木齐     2.109128\n",
      "大连      -2.406989\n",
      "呼和浩特    -5.777610\n",
      "沈阳     -10.195788\n",
      "Name: 国内生产总值, dtype: float64\n"
     ]
    }
   ],
   "source": [
    "# 5. 计算每个城市2015-2017年GDP的年均增长率，并找出增长率最高和最低的五个城市\n",
    "# 计算年均增长率\n",
    "def calculate_growth(df):\n",
    "    gdp_2015 = df[df['年份'] == 2015].set_index('地区')['国内生产总值']\n",
    "    gdp_2017 = df[df['年份'] == 2017].set_index('地区')['国内生产总值']\n",
    "    growth_rate = ((gdp_2017 / gdp_2015) ** (1/2) - 1) * 100  # 年均增长率\n",
    "    return growth_rate\n",
    "\n",
    "growth_rates = calculate_growth(merged_df).sort_values(ascending=False)\n",
    "\n",
    "# 找出增长率最高和最低的五个城市\n",
    "top5 = growth_rates.head(5)\n",
    "bottom5 = growth_rates.tail(5)\n",
    "\n",
    "print(\"5. GDP年均增长率最高和最低的五个城市:\")\n",
    "print(\"\\n增长率最高的五个城市:\")\n",
    "print(top5)\n",
    "print(\"\\n增长率最低的五个城市:\")\n",
    "print(bottom5)"
   ]
  },
  {
   "cell_type": "code",
   "execution_count": 7,
   "id": "b036d8cd-f688-4dbb-ab5f-48d6c1fe5e1f",
   "metadata": {},
   "outputs": [
    {
     "name": "stdout",
     "output_type": "stream",
     "text": [
      "\n",
      "6. 各城市医疗资源归一化值按年份比较:\n",
      "年份        2015      2016      2017\n",
      "地区                                \n",
      "上海    0.388079  0.385511  0.389535\n",
      "乌鲁木齐  0.077483  0.059508  0.115116\n",
      "兰州    0.070199  0.072445  0.115116\n",
      "北京    0.425828  0.422380  0.730233\n",
      "南京    0.102649  0.106727  0.223256\n"
     ]
    }
   ],
   "source": [
    "# 6. 对医院、卫生院数进行归一化处理（Min-Max标准化），并按年份比较各城市医疗资源的变化\n",
    "# Min-Max标准化\n",
    "def min_max_normalize(df, column):\n",
    "    grouped = df.groupby('年份')[column]\n",
    "    min_val = grouped.transform('min')\n",
    "    max_val = grouped.transform('max')\n",
    "    df[f'normalized_{column}'] = (df[column] - min_val) / (max_val - min_val)\n",
    "    return df\n",
    "\n",
    "normalized_df = min_max_normalize(merged_df, '医院、卫生院数')\n",
    "\n",
    "# 按年份比较医疗资源变化\n",
    "medical_resource_changes = normalized_df.pivot_table(index='地区', \n",
    "                                                   columns='年份', \n",
    "                                                   values='normalized_医院、卫生院数')\n",
    "\n",
    "print(\"\\n6. 各城市医疗资源归一化值按年份比较:\")\n",
    "print(medical_resource_changes.head())"
   ]
  },
  {
   "cell_type": "code",
   "execution_count": 8,
   "id": "567ad367-bd1a-45f0-8d83-4580eb2c039c",
   "metadata": {},
   "outputs": [
    {
     "name": "stdout",
     "output_type": "stream",
     "text": [
      "\n",
      "7. 已提取四大城市数据并保存为'四大城市GDP和消费数据.csv'\n"
     ]
    }
   ],
   "source": [
    "# 7. 提取北京、上海、广州、深圳四个城市2015-2017的GDP和社会商品零售总额数据\n",
    "target_cities = ['北京', '上海', '广州', '深圳']\n",
    "selected_data = merged_df[merged_df['地区'].isin(target_cities)][\n",
    "    ['地区', '年份', '国内生产总值', '社会商品零售总额']]\n",
    "\n",
    "# 保存为新的CSV文件\n",
    "selected_data.to_csv('四大城市GDP和消费数据.csv', index=False, encoding='utf-8-sig')\n",
    "\n",
    "print(\"\\n7. 已提取四大城市数据并保存为'四大城市GDP和消费数据.csv'\")"
   ]
  },
  {
   "cell_type": "code",
   "execution_count": null,
   "id": "185b7877-4085-4677-9de4-7edd5d8da559",
   "metadata": {},
   "outputs": [],
   "source": []
  }
 ],
 "metadata": {
  "kernelspec": {
   "display_name": "Python 3 (ipykernel)",
   "language": "python",
   "name": "python3"
  },
  "language_info": {
   "codemirror_mode": {
    "name": "ipython",
    "version": 3
   },
   "file_extension": ".py",
   "mimetype": "text/x-python",
   "name": "python",
   "nbconvert_exporter": "python",
   "pygments_lexer": "ipython3",
   "version": "3.12.6"
  }
 },
 "nbformat": 4,
 "nbformat_minor": 5
}
