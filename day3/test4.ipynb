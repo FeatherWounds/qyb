{
 "cells": [
  {
   "cell_type": "code",
   "execution_count": 1,
   "id": "23c68c1a-5639-43b7-a0b3-ebcbaa2d0591",
   "metadata": {},
   "outputs": [],
   "source": [
    "import pandas as pd\n",
    "\n",
    "# 读取CSV文件\n",
    "df = pd.read_csv(r'C:\\Users\\FeatherWounds\\OneDrive\\桌面\\exercise_data\\drinks.csv')"
   ]
  },
  {
   "cell_type": "code",
   "execution_count": 2,
   "id": "39434136-8ce9-4de6-b3c4-ed8ac36f360c",
   "metadata": {},
   "outputs": [
    {
     "name": "stdout",
     "output_type": "stream",
     "text": [
      "1. 平均消耗啤酒最多的大陆是: EU (平均193.8份)\n",
      "\n"
     ]
    }
   ],
   "source": [
    "# 1. 哪个大陆平均消耗的啤酒更多？\n",
    "beer_by_continent = df.groupby('continent')['beer_servings'].mean()\n",
    "max_beer_continent = beer_by_continent.idxmax()\n",
    "print(f\"1. 平均消耗啤酒最多的大陆是: {max_beer_continent} (平均{beer_by_continent[max_beer_continent]:.1f}份)\\n\")"
   ]
  },
  {
   "cell_type": "code",
   "execution_count": 3,
   "id": "8e38f5dc-90c5-4165-8464-f5e9a8854775",
   "metadata": {},
   "outputs": [
    {
     "name": "stdout",
     "output_type": "stream",
     "text": [
      "2. 每个大陆红酒消耗的描述性统计值:\n",
      "           count        mean        std  min   25%    50%     75%    max\n",
      "continent                                                               \n",
      "AF          53.0   16.264151  38.846419  0.0   1.0    2.0   13.00  233.0\n",
      "AS          44.0    9.068182  21.667034  0.0   0.0    1.0    8.00  123.0\n",
      "EU          45.0  142.222222  97.421738  0.0  59.0  128.0  195.00  370.0\n",
      "OC          16.0   35.625000  64.555790  0.0   1.0    8.5   23.25  212.0\n",
      "SA          12.0   62.416667  88.620189  1.0   3.0   12.0   98.50  221.0 \n",
      "\n"
     ]
    }
   ],
   "source": [
    "# 2. 每个大陆的红酒消耗的描述性统计值\n",
    "wine_stats = df.groupby('continent')['wine_servings'].describe()\n",
    "print(\"2. 每个大陆红酒消耗的描述性统计值:\")\n",
    "print(wine_stats, \"\\n\")"
   ]
  },
  {
   "cell_type": "code",
   "execution_count": 4,
   "id": "8ed0faa7-3335-4f27-978a-44a7abb33d67",
   "metadata": {},
   "outputs": [
    {
     "name": "stdout",
     "output_type": "stream",
     "text": [
      "3. 每个大陆每种酒类别的消耗平均值:\n",
      "           beer_servings  spirit_servings  wine_servings  \\\n",
      "continent                                                  \n",
      "AF             61.471698        16.339623      16.264151   \n",
      "AS             37.045455        60.840909       9.068182   \n",
      "EU            193.777778       132.555556     142.222222   \n",
      "OC             89.687500        58.437500      35.625000   \n",
      "SA            175.083333       114.750000      62.416667   \n",
      "\n",
      "           total_litres_of_pure_alcohol  \n",
      "continent                                \n",
      "AF                             3.007547  \n",
      "AS                             2.170455  \n",
      "EU                             8.617778  \n",
      "OC                             3.381250  \n",
      "SA                             6.308333   \n",
      "\n"
     ]
    }
   ],
   "source": [
    "# 3. 每个大陆每种酒类别的消耗平均值\n",
    "avg_consumption = df.groupby('continent')[['beer_servings', 'spirit_servings', 'wine_servings', 'total_litres_of_pure_alcohol']].mean()\n",
    "print(\"3. 每个大陆每种酒类别的消耗平均值:\")\n",
    "print(avg_consumption, \"\\n\")"
   ]
  },
  {
   "cell_type": "code",
   "execution_count": 5,
   "id": "85e0582c-5c32-43cf-ac2b-8c28f81fe3d8",
   "metadata": {},
   "outputs": [
    {
     "name": "stdout",
     "output_type": "stream",
     "text": [
      "4. 每个大陆每种酒类别的消耗中位数:\n",
      "           beer_servings  spirit_servings  wine_servings  \\\n",
      "continent                                                  \n",
      "AF                  32.0              3.0            2.0   \n",
      "AS                  17.5             16.0            1.0   \n",
      "EU                 219.0            122.0          128.0   \n",
      "OC                  52.5             37.0            8.5   \n",
      "SA                 162.5            108.5           12.0   \n",
      "\n",
      "           total_litres_of_pure_alcohol  \n",
      "continent                                \n",
      "AF                                 2.30  \n",
      "AS                                 1.20  \n",
      "EU                                10.00  \n",
      "OC                                 1.75  \n",
      "SA                                 6.85  \n"
     ]
    }
   ],
   "source": [
    "# 4. 每个大陆每种酒类别的消耗中位数\n",
    "median_consumption = df.groupby('continent')[['beer_servings', 'spirit_servings', 'wine_servings', 'total_litres_of_pure_alcohol']].median()\n",
    "print(\"4. 每个大陆每种酒类别的消耗中位数:\")\n",
    "print(median_consumption)"
   ]
  },
  {
   "cell_type": "code",
   "execution_count": null,
   "id": "223d7432-d89a-4edd-8942-524127f90529",
   "metadata": {},
   "outputs": [],
   "source": []
  }
 ],
 "metadata": {
  "kernelspec": {
   "display_name": "Python 3 (ipykernel)",
   "language": "python",
   "name": "python3"
  },
  "language_info": {
   "codemirror_mode": {
    "name": "ipython",
    "version": 3
   },
   "file_extension": ".py",
   "mimetype": "text/x-python",
   "name": "python",
   "nbconvert_exporter": "python",
   "pygments_lexer": "ipython3",
   "version": "3.12.6"
  }
 },
 "nbformat": 4,
 "nbformat_minor": 5
}
