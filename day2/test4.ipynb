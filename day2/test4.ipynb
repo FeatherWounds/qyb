{
 "cells": [
  {
   "cell_type": "code",
   "execution_count": 1,
   "id": "44fdc4e0-17e0-4977-8392-eca1873a1e1d",
   "metadata": {},
   "outputs": [],
   "source": [
    "import numpy as np"
   ]
  },
  {
   "cell_type": "code",
   "execution_count": 2,
   "id": "e9248754-1013-45ef-943a-01f48b523d30",
   "metadata": {},
   "outputs": [
    {
     "name": "stdout",
     "output_type": "stream",
     "text": [
      "原始数组:\n",
      " [[ 1  2  3  4]\n",
      " [ 5  6  7  8]\n",
      " [ 9 10 11 12]]\n",
      "\n",
      "1. 数组属性:\n",
      "形状: (3, 4)\n",
      "维度: 2\n",
      "数据类型: int64\n",
      "\n",
      "2. 元素乘以2:\n",
      " [[ 2  4  6  8]\n",
      " [10 12 14 16]\n",
      " [18 20 22 24]]\n",
      "\n",
      "3. 重塑后的数组(4x3):\n",
      " [[ 1  2  3]\n",
      " [ 4  5  6]\n",
      " [ 7  8  9]\n",
      " [10 11 12]]\n"
     ]
    }
   ],
   "source": [
    "#1.数组创建与属性分析\n",
    "\n",
    "# 创建3x4的二维数组\n",
    "arr = np.arange(1, 13).reshape(3, 4)\n",
    "print(\"原始数组:\\n\", arr)\n",
    "\n",
    "# 任务1：打印数组属性\n",
    "print(\"\\n1. 数组属性:\")\n",
    "print(\"形状:\", arr.shape)\n",
    "print(\"维度:\", arr.ndim)\n",
    "print(\"数据类型:\", arr.dtype)\n",
    "\n",
    "# 任务2：元素乘以2\n",
    "print(\"\\n2. 元素乘以2:\\n\", arr * 2)\n",
    "\n",
    "# 任务3：重塑为4x3\n",
    "reshaped_arr = arr.reshape(4, 3)\n",
    "print(\"\\n3. 重塑后的数组(4x3):\\n\", reshaped_arr)"
   ]
  },
  {
   "cell_type": "code",
   "execution_count": 3,
   "id": "b073413d-ce8a-466d-9b38-c9f58bcd8968",
   "metadata": {},
   "outputs": [
    {
     "name": "stdout",
     "output_type": "stream",
     "text": [
      "1. 第2行:\n",
      " [5 6 7 8]\n",
      "\n",
      "2. 第3列:\n",
      " [ 3  7 11 15]\n",
      "\n",
      "3. 子数组:\n",
      " [[2 3]\n",
      " [6 7]]\n",
      "\n",
      "4. 修改后的数组:\n",
      " [[ 1  2  3  4]\n",
      " [ 5  6  7  8]\n",
      " [ 9 10  0  0]\n",
      " [ 0  0  0  0]]\n"
     ]
    }
   ],
   "source": [
    "#2.数组索引与切片\n",
    "\n",
    "# 创建4x4数组\n",
    "array = np.array([[1, 2, 3, 4], \n",
    "                 [5, 6, 7, 8], \n",
    "                 [9, 10, 11, 12], \n",
    "                 [13, 14, 15, 16]])\n",
    "\n",
    "# 任务1：提取第2行(索引为1)\n",
    "print(\"1. 第2行:\\n\", array[1, :])\n",
    "\n",
    "# 任务2：提取第3列(索引为2)\n",
    "print(\"\\n2. 第3列:\\n\", array[:, 2])\n",
    "\n",
    "# 任务3：提取子数组(行1-2, 列2-3)\n",
    "print(\"\\n3. 子数组:\\n\", array[0:2, 1:3])\n",
    "\n",
    "# 任务4：条件替换\n",
    "array[array > 10] = 0\n",
    "print(\"\\n4. 修改后的数组:\\n\", array)"
   ]
  },
  {
   "cell_type": "code",
   "execution_count": 4,
   "id": "83fcc2f1-55f5-435b-9ef6-660abadf337b",
   "metadata": {},
   "outputs": [
    {
     "name": "stdout",
     "output_type": "stream",
     "text": [
      "数组A:\n",
      " [[1 2]\n",
      " [3 4]\n",
      " [5 6]]\n",
      "数组B:\n",
      " [10 20]\n",
      "\n",
      "1. A + B:\n",
      " [[11 22]\n",
      " [13 24]\n",
      " [15 26]]\n",
      "\n",
      "2. A * B:\n",
      " [[ 10  40]\n",
      " [ 30  80]\n",
      " [ 50 120]]\n",
      "\n",
      "3. 点积结果:\n",
      " [ 50 110 170]\n"
     ]
    }
   ],
   "source": [
    "#3.数组运算与广播\n",
    "\n",
    "# 创建数组A和B\n",
    "A = np.arange(1, 7).reshape(3, 2)\n",
    "B = np.array([10, 20])\n",
    "\n",
    "print(\"数组A:\\n\", A)\n",
    "print(\"数组B:\\n\", B)\n",
    "\n",
    "# 任务1：逐元素相加\n",
    "print(\"\\n1. A + B:\\n\", A + B)\n",
    "\n",
    "# 任务2：逐元素相乘\n",
    "print(\"\\n2. A * B:\\n\", A * B)\n",
    "\n",
    "# 任务3：每行与B的点积\n",
    "print(\"\\n3. 点积结果:\\n\", np.dot(A, B))"
   ]
  },
  {
   "cell_type": "code",
   "execution_count": null,
   "id": "e5f333ba-9011-4796-8a05-96a1ffd266a7",
   "metadata": {},
   "outputs": [],
   "source": []
  }
 ],
 "metadata": {
  "kernelspec": {
   "display_name": "Python 3 (ipykernel)",
   "language": "python",
   "name": "python3"
  },
  "language_info": {
   "codemirror_mode": {
    "name": "ipython",
    "version": 3
   },
   "file_extension": ".py",
   "mimetype": "text/x-python",
   "name": "python",
   "nbconvert_exporter": "python",
   "pygments_lexer": "ipython3",
   "version": "3.12.6"
  }
 },
 "nbformat": 4,
 "nbformat_minor": 5
}
